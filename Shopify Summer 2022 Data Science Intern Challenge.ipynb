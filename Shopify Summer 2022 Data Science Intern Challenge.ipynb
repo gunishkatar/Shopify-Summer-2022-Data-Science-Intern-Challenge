{
 "cells": [
  {
   "cell_type": "markdown",
   "id": "d453122f",
   "metadata": {},
   "source": [
    "# Question 1"
   ]
  },
  {
   "cell_type": "code",
   "execution_count": 126,
   "id": "c77bf18b",
   "metadata": {},
   "outputs": [],
   "source": [
    "# Library imports\n",
    "import numpy as np\n",
    "import pandas as pd"
   ]
  },
  {
   "cell_type": "code",
   "execution_count": 127,
   "id": "05299bd5",
   "metadata": {},
   "outputs": [],
   "source": [
    "# Data import\n",
    "df = pd.read_excel(r\"2019 Winter Data Science Intern Challenge Data Set_.xlsx\")"
   ]
  },
  {
   "cell_type": "code",
   "execution_count": 128,
   "id": "9eac04f5",
   "metadata": {},
   "outputs": [
    {
     "data": {
      "text/html": [
       "<div>\n",
       "<style scoped>\n",
       "    .dataframe tbody tr th:only-of-type {\n",
       "        vertical-align: middle;\n",
       "    }\n",
       "\n",
       "    .dataframe tbody tr th {\n",
       "        vertical-align: top;\n",
       "    }\n",
       "\n",
       "    .dataframe thead th {\n",
       "        text-align: right;\n",
       "    }\n",
       "</style>\n",
       "<table border=\"1\" class=\"dataframe\">\n",
       "  <thead>\n",
       "    <tr style=\"text-align: right;\">\n",
       "      <th></th>\n",
       "      <th>order_id</th>\n",
       "      <th>shop_id</th>\n",
       "      <th>user_id</th>\n",
       "      <th>order_amount</th>\n",
       "      <th>total_items</th>\n",
       "      <th>payment_method</th>\n",
       "      <th>created_at</th>\n",
       "    </tr>\n",
       "  </thead>\n",
       "  <tbody>\n",
       "    <tr>\n",
       "      <th>0</th>\n",
       "      <td>1</td>\n",
       "      <td>53</td>\n",
       "      <td>746</td>\n",
       "      <td>224</td>\n",
       "      <td>2</td>\n",
       "      <td>cash</td>\n",
       "      <td>2017-03-13 12:36:56.190</td>\n",
       "    </tr>\n",
       "    <tr>\n",
       "      <th>1</th>\n",
       "      <td>2</td>\n",
       "      <td>92</td>\n",
       "      <td>925</td>\n",
       "      <td>90</td>\n",
       "      <td>1</td>\n",
       "      <td>cash</td>\n",
       "      <td>2017-03-03 17:38:51.999</td>\n",
       "    </tr>\n",
       "    <tr>\n",
       "      <th>2</th>\n",
       "      <td>3</td>\n",
       "      <td>44</td>\n",
       "      <td>861</td>\n",
       "      <td>144</td>\n",
       "      <td>1</td>\n",
       "      <td>cash</td>\n",
       "      <td>2017-03-14 04:23:55.595</td>\n",
       "    </tr>\n",
       "    <tr>\n",
       "      <th>3</th>\n",
       "      <td>4</td>\n",
       "      <td>18</td>\n",
       "      <td>935</td>\n",
       "      <td>156</td>\n",
       "      <td>1</td>\n",
       "      <td>credit_card</td>\n",
       "      <td>2017-03-26 12:43:36.649</td>\n",
       "    </tr>\n",
       "    <tr>\n",
       "      <th>4</th>\n",
       "      <td>5</td>\n",
       "      <td>18</td>\n",
       "      <td>883</td>\n",
       "      <td>156</td>\n",
       "      <td>1</td>\n",
       "      <td>credit_card</td>\n",
       "      <td>2017-03-01 04:35:10.773</td>\n",
       "    </tr>\n",
       "  </tbody>\n",
       "</table>\n",
       "</div>"
      ],
      "text/plain": [
       "   order_id  shop_id  user_id  order_amount  total_items payment_method  \\\n",
       "0         1       53      746           224            2           cash   \n",
       "1         2       92      925            90            1           cash   \n",
       "2         3       44      861           144            1           cash   \n",
       "3         4       18      935           156            1    credit_card   \n",
       "4         5       18      883           156            1    credit_card   \n",
       "\n",
       "               created_at  \n",
       "0 2017-03-13 12:36:56.190  \n",
       "1 2017-03-03 17:38:51.999  \n",
       "2 2017-03-14 04:23:55.595  \n",
       "3 2017-03-26 12:43:36.649  \n",
       "4 2017-03-01 04:35:10.773  "
      ]
     },
     "execution_count": 128,
     "metadata": {},
     "output_type": "execute_result"
    }
   ],
   "source": [
    "# Data View or EDA\n",
    "df.head()"
   ]
  },
  {
   "cell_type": "markdown",
   "id": "ac089a93",
   "metadata": {},
   "source": [
    "#### a. Think about what could be going wrong with our calculation. Think about a better way to evaluate this data"
   ]
  },
  {
   "cell_type": "markdown",
   "id": "774b7dfe",
   "metadata": {},
   "source": [
    "By just using the formula (Total Revenue/Total number of oders) we are not considering the presence of outliers in the data. Better way would be to remove the outliers as average or mean is such a factor which is highly influenced by the outliers because average or mean depends on the sum."
   ]
  },
  {
   "cell_type": "code",
   "execution_count": 129,
   "id": "a0ddb217",
   "metadata": {},
   "outputs": [
    {
     "name": "stdout",
     "output_type": "stream",
     "text": [
      "0\n",
      "0\n",
      "0\n",
      "0\n",
      "0\n",
      "141\n",
      "0\n"
     ]
    }
   ],
   "source": [
    "# Data pre-processing\n",
    "\n",
    "# Replacing invalid values with nan so that could be dropped later.\n",
    "numberical_cols = df.select_dtypes(include=np.number).columns.to_list()\n",
    "for col in numberical_cols:\n",
    "    mask = (df[col] <= 0)\n",
    "    df.loc[mask, col] = np.nan\n",
    "    print(df[column].isna().sum()) # Printing total nans\n",
    "\n",
    "# Replacing Outliers with nan\n",
    "column = 'order_amount'\n",
    "Q1 = df[column].quantile(.25)\n",
    "Q3 = df[column].quantile(.75)\n",
    "IQR = Q3 - Q1\n",
    "lowerBound = Q1 - 1.5 * IQR # Upperbound\n",
    "upperBound = Q3 + 1.5 * IQR # Lowerbound\n",
    "mask = (df[column] < lowerBound) | (df[column] > upperBound)\n",
    "df.loc[mask, column] = np.nan\n",
    "print(df[column].isna().sum())\n",
    "\n",
    "# Dropping nans\n",
    "df = df.dropna()\n",
    "print(df[column].isna().sum())"
   ]
  },
  {
   "cell_type": "markdown",
   "id": "b0ba4b5a",
   "metadata": {},
   "source": [
    "# AOV = (Total Revenue)/(Total Orders)"
   ]
  },
  {
   "cell_type": "code",
   "execution_count": 130,
   "id": "9d3c70da",
   "metadata": {},
   "outputs": [],
   "source": [
    "# Total Revenue\n",
    "orderSum = np.sum(df[column])"
   ]
  },
  {
   "cell_type": "code",
   "execution_count": 131,
   "id": "03430d82",
   "metadata": {},
   "outputs": [],
   "source": [
    "# Total Number of orders\n",
    "numberOfOrders = df.shape[0]"
   ]
  },
  {
   "cell_type": "code",
   "execution_count": 132,
   "id": "e96e3be6",
   "metadata": {
    "scrolled": true
   },
   "outputs": [],
   "source": [
    "# Average order value\n",
    "AOV = orderSum/numberOfOrders"
   ]
  },
  {
   "cell_type": "code",
   "execution_count": 133,
   "id": "cf968cfe",
   "metadata": {},
   "outputs": [
    {
     "data": {
      "text/plain": [
       "293.7153735336489"
      ]
     },
     "execution_count": 133,
     "metadata": {},
     "output_type": "execute_result"
    }
   ],
   "source": [
    "AOV"
   ]
  },
  {
   "cell_type": "markdown",
   "id": "c4101f3c",
   "metadata": {},
   "source": [
    "### AOV : 293.71$"
   ]
  },
  {
   "cell_type": "markdown",
   "id": "ccf9674b",
   "metadata": {},
   "source": [
    "#### b. What metric would you report for this dataset?\n",
    "#### Ans: Revenue Per Visitor(RPV)"
   ]
  },
  {
   "cell_type": "markdown",
   "id": "aed531f8",
   "metadata": {},
   "source": [
    "#### c. What is its value?"
   ]
  },
  {
   "cell_type": "markdown",
   "id": "20c8a404",
   "metadata": {},
   "source": [
    "RPV = Total Revenue / Total Visitor"
   ]
  },
  {
   "cell_type": "code",
   "execution_count": 134,
   "id": "a6b4feec",
   "metadata": {},
   "outputs": [],
   "source": [
    "# Total Visitor\n",
    "totalVisitor = len(df.user_id.unique())"
   ]
  },
  {
   "cell_type": "code",
   "execution_count": 135,
   "id": "8f62eee1",
   "metadata": {},
   "outputs": [
    {
     "data": {
      "text/plain": [
       "300"
      ]
     },
     "execution_count": 135,
     "metadata": {},
     "output_type": "execute_result"
    }
   ],
   "source": [
    "totalVisitor"
   ]
  },
  {
   "cell_type": "code",
   "execution_count": 136,
   "id": "02acf0b8",
   "metadata": {},
   "outputs": [],
   "source": [
    "RPV = orderSum/totalVisitor"
   ]
  },
  {
   "cell_type": "code",
   "execution_count": 137,
   "id": "ec0ef836",
   "metadata": {},
   "outputs": [
    {
     "data": {
      "text/plain": [
       "4757.21"
      ]
     },
     "execution_count": 137,
     "metadata": {},
     "output_type": "execute_result"
    }
   ],
   "source": [
    "RPV"
   ]
  },
  {
   "cell_type": "markdown",
   "id": "74651be3",
   "metadata": {},
   "source": [
    "### RPV: 4757.21$"
   ]
  },
  {
   "cell_type": "code",
   "execution_count": null,
   "id": "5c4b7bf0",
   "metadata": {},
   "outputs": [],
   "source": []
  },
  {
   "cell_type": "code",
   "execution_count": null,
   "id": "fa54a6f5",
   "metadata": {},
   "outputs": [],
   "source": []
  },
  {
   "cell_type": "markdown",
   "id": "6a8dd435",
   "metadata": {},
   "source": [
    "# Question 2"
   ]
  },
  {
   "cell_type": "markdown",
   "id": "e65ce7cd",
   "metadata": {},
   "source": [
    "#### 1.How many orders were shipped by Speedy Express in total?"
   ]
  },
  {
   "cell_type": "code",
   "execution_count": null,
   "id": "9fd1914c",
   "metadata": {},
   "outputs": [],
   "source": []
  },
  {
   "cell_type": "markdown",
   "id": "0f26f59d",
   "metadata": {},
   "source": [
    "Answer: 68"
   ]
  },
  {
   "cell_type": "markdown",
   "id": "9648bdc0",
   "metadata": {},
   "source": [
    "Query:\n",
    "SELECT COUNT(OrderID) FROM Orders WHERE ShipperID is 3;"
   ]
  },
  {
   "cell_type": "markdown",
   "id": "a0046395",
   "metadata": {},
   "source": [
    "#### 2. What is the last name of the employee with the most orders?"
   ]
  },
  {
   "cell_type": "code",
   "execution_count": null,
   "id": "c0012a97",
   "metadata": {},
   "outputs": [],
   "source": []
  },
  {
   "cell_type": "markdown",
   "id": "e53ba695",
   "metadata": {},
   "source": [
    "Answer: Peacock"
   ]
  },
  {
   "cell_type": "markdown",
   "id": "4de96c85",
   "metadata": {},
   "source": [
    "Query: \n",
    "SELECT LastName FROM (SELECT * FROM (SELECT COUNT(OrderID) as Orders, EmployeeID FROM Orders GROUP BY EmployeeID) ORDER BY Orders DESC LIMIT 1) AS a INNER JOIN Employees ON a.EmployeeID = Employees.EmployeeID;"
   ]
  },
  {
   "cell_type": "markdown",
   "id": "3323f25e",
   "metadata": {},
   "source": [
    "#### 3. What product was ordered the most by customers in Germany?"
   ]
  },
  {
   "cell_type": "code",
   "execution_count": null,
   "id": "0452b4ce",
   "metadata": {},
   "outputs": [],
   "source": []
  },
  {
   "cell_type": "markdown",
   "id": "a7da8712",
   "metadata": {},
   "source": [
    "Answer: Gorgonzola Telino"
   ]
  },
  {
   "cell_type": "markdown",
   "id": "b07ec59a",
   "metadata": {},
   "source": [
    "Query:\n",
    "SELECT ProductName FROM (\n",
    "SELECT COUNT(b.OrderID) as SUM, ProductID FROM (\n",
    "SELECT Orders.OrderID, a.CustomerID, a.Country \n",
    "FROM (\n",
    "SELECT CustomerID, Country FROM Customers WHERE Country IS \"Germany\") as a \n",
    "INNER JOIN \n",
    "Orders \n",
    "ON Orders.CustomerID = a.CustomerID) AS b INNER JOIN OrderDetails ON b.OrderID = OrderDetails.OrderID group by ProductID order by SUM DESC LIMIT 1\n",
    ") AS c INNER JOIN Products ON c.ProductID = Products.ProductID;"
   ]
  },
  {
   "cell_type": "code",
   "execution_count": null,
   "id": "f627b5b6",
   "metadata": {},
   "outputs": [],
   "source": []
  }
 ],
 "metadata": {
  "kernelspec": {
   "display_name": "Python 3",
   "language": "python",
   "name": "python3"
  },
  "language_info": {
   "codemirror_mode": {
    "name": "ipython",
    "version": 3
   },
   "file_extension": ".py",
   "mimetype": "text/x-python",
   "name": "python",
   "nbconvert_exporter": "python",
   "pygments_lexer": "ipython3",
   "version": "3.8.8"
  }
 },
 "nbformat": 4,
 "nbformat_minor": 5
}
